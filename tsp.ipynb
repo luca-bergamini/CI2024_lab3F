{
 "cells": [
  {
   "cell_type": "code",
   "execution_count": 67,
   "metadata": {},
   "outputs": [],
   "source": [
    "import logging\n",
    "from itertools import combinations\n",
    "import pandas as pd\n",
    "import numpy as np\n",
    "from geopy.distance import geodesic\n",
    "from tqdm.auto import tqdm\n",
    "import networkx as nx\n",
    "import heapq\n",
    "\n",
    "from icecream import ic\n",
    "\n",
    "logging.basicConfig(level=logging.DEBUG)"
   ]
  },
  {
   "cell_type": "markdown",
   "metadata": {},
   "source": [
    "### Utility Functions"
   ]
  },
  {
   "cell_type": "code",
   "execution_count": 68,
   "metadata": {},
   "outputs": [],
   "source": [
    "def load_data():\n",
    "    global CITIES, DIST_MATRIX, median\n",
    "    CITIES = pd.read_csv('italy.csv', header=None, names=['name', 'lat', 'lon']) # contains all cities with its lat and lon\n",
    "    DIST_MATRIX = np.zeros((len(CITIES), len(CITIES))) # quadratice matrix of distances between cities, initialized with all zeros\n",
    "    for c1, c2 in combinations(CITIES.itertuples(), 2): # for each pair of cities\n",
    "        DIST_MATRIX[c1.Index, c2.Index] = DIST_MATRIX[c2.Index, c1.Index] = geodesic(\n",
    "            (c1.lat, c1.lon), (c2.lat, c2.lon)\n",
    "        ).km # compute the distance between lat and lon\n",
    "    median = np.median(DIST_MATRIX.reshape(1, -1))\n",
    "    DIST_MATRIX[DIST_MATRIX > median] = np.inf # keeping all the distances that are lower than the median, setting to inf all the distances higher\n",
    "    "
   ]
  },
  {
   "cell_type": "code",
   "execution_count": 69,
   "metadata": {},
   "outputs": [],
   "source": [
    "def path_cost(path):\n",
    "    tot_cost = 0\n",
    "    for c1, c2 in zip(path, path[1:]):  # per ogni coppia di città consecutive\n",
    "        tot_cost += DIST_MATRIX[c1, c2]  # somma la distanza tra le due città\n",
    "    return tot_cost"
   ]
  },
  {
   "cell_type": "markdown",
   "metadata": {},
   "source": [
    "### Networkx shortest_path method to check the Dijkstra correctness"
   ]
  },
  {
   "cell_type": "code",
   "execution_count": 70,
   "metadata": {},
   "outputs": [
    {
     "name": "stdout",
     "output_type": "stream",
     "text": [
      "--------- Looking for path between Rome and Bolzano ---------\n",
      "Best path: Rome -> Forlì -> Bolzano\n",
      "Cost for best path:  520.5980314423081\n"
     ]
    }
   ],
   "source": [
    "load_data()\n",
    "G = nx.from_numpy_array(DIST_MATRIX, create_using=nx.Graph())\n",
    "\n",
    "s_city = 'Rome'\n",
    "e_city = 'Bolzano'\n",
    "\n",
    "start_city = CITIES[CITIES['name'] == s_city].index[0]\n",
    "end_city = CITIES[CITIES['name'] == e_city].index[0]\n",
    "\n",
    "try:\n",
    "    shortest_path = nx.shortest_path(G, source=start_city, target=end_city, weight='weight')\n",
    "    path_cities = CITIES.iloc[shortest_path]['name'].tolist()\n",
    "    print(f\"--------- Looking for path between {s_city} and {e_city} ---------\")\n",
    "    print(\"Best path:\", \" -> \".join(path_cities))\n",
    "    print(\"Cost for best path: \", path_cost(shortest_path))\n",
    "except nx.NetworkXNoPath:\n",
    "    print(\"There is not a path between the two cities!\")\n"
   ]
  },
  {
   "cell_type": "markdown",
   "metadata": {},
   "source": [
    "### Dijkstra with angle limit"
   ]
  },
  {
   "cell_type": "code",
   "execution_count": 71,
   "metadata": {},
   "outputs": [
    {
     "name": "stdout",
     "output_type": "stream",
     "text": [
      "--------- Looking for path between Rome and Bolzano ---------\n",
      "Best path: Rome -> Forlì -> Bolzano\n",
      "Cost for best path:  520.5980314423081\n"
     ]
    }
   ],
   "source": [
    "# Compute angle between two points\n",
    "def compute_angle(pointA, pointB):\n",
    "    lat1, lon1 = np.radians(pointA)\n",
    "    lat2, lon2 = np.radians(pointB)\n",
    "    d_lon = lon2 - lon1\n",
    "    x = np.sin(d_lon) * np.cos(lat2)\n",
    "    y = np.cos(lat1) * np.sin(lat2) - (np.sin(lat1) * np.cos(lat2) * np.cos(d_lon))\n",
    "    initial_bearing = np.arctan2(x, y)\n",
    "    initial_bearing = np.degrees(initial_bearing)\n",
    "    return (initial_bearing + 360) % 360\n",
    "\n",
    "# Fixed Dijkstra function with angle limit\n",
    "def dijkstra_with_angle_limit(start, end, matrix=DIST_MATRIX, cities=CITIES, max_angle_deviation=30):\n",
    "    num_nodes = matrix.shape[0]\n",
    "    dist = np.full(num_nodes, np.inf)\n",
    "    dist[start] = 0\n",
    "    prev = np.full(num_nodes, None)\n",
    "    queue = [(0, start)]\n",
    "    \n",
    "    # Compute the angle between two cities\n",
    "    start_coords = (cities.iloc[start]['lat'], cities.iloc[start]['lon'])\n",
    "    end_coords = (cities.iloc[end]['lat'], cities.iloc[end]['lon'])\n",
    "    main_bearing = compute_angle(start_coords, end_coords)\n",
    "\n",
    "    while queue:\n",
    "        current_dist, u = heapq.heappop(queue)\n",
    "        if u == end:\n",
    "            break\n",
    "        if current_dist > dist[u]:\n",
    "            continue\n",
    "\n",
    "        # Looking the nearby cities\n",
    "        for v in range(num_nodes):\n",
    "            if matrix[u, v] != np.inf:\n",
    "                u_coords = (cities.iloc[u]['lat'], cities.iloc[u]['lon'])\n",
    "                v_coords = (cities.iloc[v]['lat'], cities.iloc[v]['lon'])\n",
    "                bearing_uv = compute_angle(u_coords, v_coords)\n",
    "                \n",
    "                # Checking the angle deviation\n",
    "                if abs(bearing_uv - main_bearing) <= max_angle_deviation:\n",
    "                    alt = current_dist + matrix[u, v]\n",
    "                    if alt < dist[v]:\n",
    "                        dist[v] = alt\n",
    "                        prev[v] = u\n",
    "                        heapq.heappush(queue, (alt, v))\n",
    "\n",
    "    # Creating the path\n",
    "    path = []\n",
    "    u = end\n",
    "    while u is not None:\n",
    "        path.append(u)\n",
    "        u = prev[u]\n",
    "    path.reverse()\n",
    "\n",
    "    return path if dist[end] != np.inf else None\n",
    "\n",
    "s_city = 'Rome'\n",
    "e_city = 'Bolzano'\n",
    "\n",
    "start_city = CITIES[CITIES['name'] == s_city].index[0]\n",
    "end_city = CITIES[CITIES['name'] == e_city].index[0]\n",
    "\n",
    "path_indices = dijkstra_with_angle_limit(start_city, end_city)\n",
    "if path_indices is not None:\n",
    "    path_cities = CITIES.iloc[path_indices]['name'].tolist()\n",
    "    print(f\"--------- Looking for path between {s_city} and {e_city} ---------\")\n",
    "    print(\"Best path:\", \" -> \".join(path_cities))\n",
    "    print(\"Cost for best path: \", path_cost(path_indices))\n",
    "    \n",
    "else:\n",
    "    print(\"There is not a path between the two cities!\")"
   ]
  }
 ],
 "metadata": {
  "kernelspec": {
   "display_name": "ci-3rwch_zL-py3.11",
   "language": "python",
   "name": "python3"
  },
  "language_info": {
   "codemirror_mode": {
    "name": "ipython",
    "version": 3
   },
   "file_extension": ".py",
   "mimetype": "text/x-python",
   "name": "python",
   "nbconvert_exporter": "python",
   "pygments_lexer": "ipython3",
   "version": "3.11.7"
  }
 },
 "nbformat": 4,
 "nbformat_minor": 2
}
